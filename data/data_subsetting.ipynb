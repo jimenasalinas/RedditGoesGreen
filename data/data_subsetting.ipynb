{
  "cells": [
    {
      "cell_type": "markdown",
      "metadata": {
        "id": "XgT16vMRKWw1"
      },
      "source": [
        "## Subsetting Data\n",
        "by Santiago Segovia\n",
        "\n",
        "Note: Run this notebook on Colab"
      ]
    },
    {
      "cell_type": "code",
      "execution_count": 1,
      "metadata": {
        "id": "-aJDLrbUKWw5"
      },
      "outputs": [],
      "source": [
        "import pandas as pd\n",
        "\n",
        "from google.colab import drive"
      ]
    },
    {
      "cell_type": "code",
      "execution_count": 2,
      "metadata": {
        "colab": {
          "base_uri": "https://localhost:8080/"
        },
        "id": "6b9aKDf2KWw7",
        "outputId": "54e7ca7c-b411-4ce4-ae0a-696c6c81aca0"
      },
      "outputs": [
        {
          "output_type": "stream",
          "name": "stdout",
          "text": [
            "Mounted at /content/drive\n"
          ]
        }
      ],
      "source": [
        "# Mount GDrive\n",
        "drive.mount(\"/content/drive\")"
      ]
    },
    {
      "cell_type": "code",
      "execution_count": 3,
      "metadata": {
        "id": "nETHK9N7Klph"
      },
      "outputs": [],
      "source": [
        "# Load data (takes 2 mins to load `comments`)\n",
        "data_path = \"/content/drive/Shareddrives/adv-ml-project/Data/\"\n",
        "comments = pd.read_csv(data_path + \"the-reddit-climate-change-dataset-comments.csv\")\n",
        "posts = pd.read_csv(data_path + \"the-reddit-climate-change-dataset-posts.csv\")"
      ]
    },
    {
      "cell_type": "code",
      "execution_count": 4,
      "metadata": {
        "colab": {
          "base_uri": "https://localhost:8080/"
        },
        "id": "pFcLWMDpSzRL",
        "outputId": "c500db41-597f-4eec-fa98-0453cec32951"
      },
      "outputs": [
        {
          "output_type": "stream",
          "name": "stdout",
          "text": [
            "Number of records in comments df: 4600698\n",
            "Number of records in posts df: 620908\n"
          ]
        }
      ],
      "source": [
        "initial_comments_shape = comments.shape\n",
        "initial_posts_shape = posts.shape\n",
        "print(\"Number of records in comments df:\", initial_comments_shape[0])\n",
        "print(\"Number of records in posts df:\", initial_posts_shape[0])"
      ]
    },
    {
      "cell_type": "code",
      "execution_count": 5,
      "metadata": {
        "id": "rzxrPpHiKnYk"
      },
      "outputs": [],
      "source": [
        "# We remove columns that we won't use in the analysis:\n",
        "comments = comments[['subreddit.name','created_utc','body','sentiment']]\n",
        "posts = posts[['subreddit.name','created_utc','title']]"
      ]
    },
    {
      "cell_type": "code",
      "execution_count": 6,
      "metadata": {
        "id": "0CMwyGlLKo97"
      },
      "outputs": [],
      "source": [
        "# Define date\n",
        "comments['date'] = pd.to_datetime(comments['created_utc'], unit='s')\n",
        "posts['date'] = pd.to_datetime(posts['created_utc'], unit='s')"
      ]
    },
    {
      "cell_type": "code",
      "execution_count": 7,
      "metadata": {
        "id": "MuJE8-p0NJnN"
      },
      "outputs": [],
      "source": [
        "# Subset by date (keep every record from 2015 onwards)\n",
        "comments = comments[comments['date']>='2015-01-01']\n",
        "posts = posts[posts['date']>='2015-01-01']"
      ]
    },
    {
      "cell_type": "code",
      "execution_count": 8,
      "metadata": {
        "colab": {
          "base_uri": "https://localhost:8080/"
        },
        "id": "5ho7W3EHStML",
        "outputId": "efbcf8ec-9ee3-4fb5-a7c3-5e98085eb718"
      },
      "outputs": [
        {
          "output_type": "stream",
          "name": "stdout",
          "text": [
            "Number of records in comments df: 4338011\n",
            " Reduction of 4.71 %\n",
            "Number of records in posts df: 566808\n",
            " Reduction of 7.71 %\n"
          ]
        }
      ],
      "source": [
        "mid_comments_shape = comments.shape\n",
        "mid_posts_shape = posts.shape\n",
        "print(\"Number of records in comments df:\", mid_comments_shape[0])\n",
        "print(\" Reduction of\", round((initial_comments_shape[0] - mid_comments_shape[0]) * 100 / initial_comments_shape[0] - 1,2), \"% vs. original\")\n",
        "print(\"Number of records in posts df:\", mid_posts_shape[0])\n",
        "print(\" Reduction of\", round((initial_posts_shape[0] - mid_posts_shape[0]) * 100 / initial_posts_shape[0] - 1,2), \"% vs. original\")"
      ]
    },
    {
      "cell_type": "code",
      "execution_count": 9,
      "metadata": {
        "id": "TOKQy48gNozo"
      },
      "outputs": [],
      "source": [
        "# Subset by number of subreddits that have 5000 or more comments\n",
        "def count_categories(categories):\n",
        "    category_counts = {}\n",
        "    for category in categories:\n",
        "        if category in category_counts:\n",
        "            category_counts[category] += 1\n",
        "        else:\n",
        "            category_counts[category] = 1\n",
        "\n",
        "    return list(category_counts.items())"
      ]
    },
    {
      "cell_type": "code",
      "execution_count": 10,
      "metadata": {
        "id": "CD_1QQJcOQEn"
      },
      "outputs": [],
      "source": [
        "subreddits = count_categories(comments['subreddit.name'])\n",
        "sorted_subreddits = sorted(subreddits, key=lambda x: x[1], reverse=True)"
      ]
    },
    {
      "cell_type": "code",
      "execution_count": 11,
      "metadata": {
        "colab": {
          "base_uri": "https://localhost:8080/"
        },
        "id": "DawPBAe2OLDo",
        "outputId": "39f1efb5-47a7-46af-df11-e20716448bc3"
      },
      "outputs": [
        {
          "output_type": "execute_result",
          "data": {
            "text/plain": [
              "[('politics', 339167),\n",
              " ('worldnews', 332778),\n",
              " ('askreddit', 240389),\n",
              " ('collapse', 92702),\n",
              " ('news', 89337)]"
            ]
          },
          "metadata": {},
          "execution_count": 11
        }
      ],
      "source": [
        "sorted_subreddits[:5]"
      ]
    },
    {
      "cell_type": "code",
      "execution_count": 12,
      "metadata": {
        "id": "nChmhM1gN8SI"
      },
      "outputs": [],
      "source": [
        "#Dropping subreddits that have less than \"threshold\" posts (e.g. 3K, 10K, etc)\n",
        "def drop_tuples_below_threshold(tuples_list, threshold):\n",
        "    to_keep = []\n",
        "    cat_num = []\n",
        "    for name, count in tuples_list:\n",
        "        if count >= threshold:\n",
        "          to_keep.append(name)\n",
        "          cat_num.append((name, count))\n",
        "\n",
        "    return to_keep, cat_num"
      ]
    },
    {
      "cell_type": "code",
      "execution_count": 20,
      "metadata": {
        "id": "nokomd9GOXvx"
      },
      "outputs": [],
      "source": [
        "categories, counts_categories  = drop_tuples_below_threshold(sorted_subreddits, 100000)"
      ]
    },
    {
      "cell_type": "code",
      "execution_count": 21,
      "metadata": {
        "id": "q8703qWqR9cF"
      },
      "outputs": [],
      "source": [
        "comments = comments[comments['subreddit.name'].isin(categories)]\n",
        "posts = posts[posts['subreddit.name'].isin(categories)]"
      ]
    },
    {
      "cell_type": "code",
      "execution_count": 22,
      "metadata": {
        "colab": {
          "base_uri": "https://localhost:8080/"
        },
        "id": "4VsiI1GqSMjr",
        "outputId": "67ceaa34-0c3a-4aef-9444-c4e8a2bc7d1a"
      },
      "outputs": [
        {
          "output_type": "stream",
          "name": "stdout",
          "text": [
            "Number of records in comments df: 912334\n",
            " Reduction of 79.17 % vs. original\n",
            "Number of records in posts df: 36416\n",
            " Reduction of 93.14 % vs. original\n"
          ]
        }
      ],
      "source": [
        "end_comments_shape = comments.shape\n",
        "end_posts_shape = posts.shape\n",
        "print(\"Number of records in comments df:\", end_comments_shape[0])\n",
        "print(\" Reduction of\", round((initial_comments_shape[0] - end_comments_shape[0]) * 100 / initial_comments_shape[0] - 1,2),\"% vs. original\")\n",
        "print(\"Number of records in posts df:\", end_posts_shape[0])\n",
        "print(\" Reduction of\", round((initial_posts_shape[0] - end_posts_shape[0]) * 100 / initial_posts_shape[0] - 1,2),\"% vs. original\")"
      ]
    },
    {
      "cell_type": "code",
      "execution_count": 25,
      "metadata": {
        "id": "0nDVSh05HPBk"
      },
      "outputs": [],
      "source": [
        "# Export files\n",
        "comments.drop(columns='created_utc', inplace=True)\n",
        "posts.drop(columns='created_utc', inplace=True)\n",
        "comments.to_csv(data_path + 'comments_filtered.csv', index=False)\n",
        "posts.to_csv(data_path + 'posts_filtered.csv', index=False)"
      ]
    }
  ],
  "metadata": {
    "colab": {
      "provenance": []
    },
    "kernelspec": {
      "display_name": "Python 3",
      "name": "python3"
    },
    "language_info": {
      "name": "python",
      "version": "3.11.8"
    }
  },
  "nbformat": 4,
  "nbformat_minor": 0
}
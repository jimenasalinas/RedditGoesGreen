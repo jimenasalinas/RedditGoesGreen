{
  "cells": [
    {
      "cell_type": "markdown",
      "metadata": {
        "id": "XgT16vMRKWw1"
      },
      "source": [
        "## Subsetting Data\n",
        "by Santiago Segovia\n",
        "\n",
        "Note: Run this notebook on Colab"
      ]
    },
    {
      "cell_type": "code",
      "execution_count": 1,
      "metadata": {
        "id": "-aJDLrbUKWw5"
      },
      "outputs": [],
      "source": [
        "import pandas as pd\n",
        "\n",
        "from google.colab import drive"
      ]
    },
    {
      "cell_type": "code",
      "execution_count": 2,
      "metadata": {
        "colab": {
          "base_uri": "https://localhost:8080/"
        },
        "id": "6b9aKDf2KWw7",
        "outputId": "0d77a3f2-9568-4ddb-8332-1e66b627c976"
      },
      "outputs": [
        {
          "output_type": "stream",
          "name": "stdout",
          "text": [
            "Mounted at /content/drive\n"
          ]
        }
      ],
      "source": [
        "# Mount GDrive\n",
        "drive.mount(\"/content/drive\")"
      ]
    },
    {
      "cell_type": "code",
      "execution_count": 3,
      "metadata": {
        "id": "nETHK9N7Klph"
      },
      "outputs": [],
      "source": [
        "# Load data (takes 2 mins to load `comments`)\n",
        "data_path = \"/content/drive/Shareddrives/adv-ml-project/Data/\"\n",
        "comments = pd.read_csv(data_path + \"the-reddit-climate-change-dataset-comments.csv\")\n",
        "posts = pd.read_csv(data_path + \"the-reddit-climate-change-dataset-posts.csv\")"
      ]
    },
    {
      "cell_type": "code",
      "source": [
        "# Define date\n",
        "comments['date'] = pd.to_datetime(comments['created_utc'], unit='s')\n",
        "posts['date'] = pd.to_datetime(posts['created_utc'], unit='s')"
      ],
      "metadata": {
        "id": "gJRAu1e9RS7z"
      },
      "execution_count": 4,
      "outputs": []
    },
    {
      "cell_type": "code",
      "source": [
        "# Define label\n",
        "def create_label(sentiment):\n",
        "    if sentiment < -0.05:\n",
        "        return -1\n",
        "    elif sentiment >= -0.05 and sentiment <= 0.05:\n",
        "        return 0\n",
        "    else:\n",
        "        return 1"
      ],
      "metadata": {
        "id": "huJec0-yRVm_"
      },
      "execution_count": 6,
      "outputs": []
    },
    {
      "cell_type": "code",
      "source": [
        "comments['label'] = comments['sentiment'].apply(create_label)"
      ],
      "metadata": {
        "id": "oISaM5XhRbFC"
      },
      "execution_count": 28,
      "outputs": []
    },
    {
      "cell_type": "code",
      "execution_count": 9,
      "metadata": {
        "colab": {
          "base_uri": "https://localhost:8080/"
        },
        "id": "pFcLWMDpSzRL",
        "outputId": "4886ddc4-2f72-4baa-b965-968bd3c1ed99"
      },
      "outputs": [
        {
          "output_type": "stream",
          "name": "stdout",
          "text": [
            "Number of records in comments df: 4600698\n",
            "Number of records in posts df: 620908\n"
          ]
        }
      ],
      "source": [
        "initial_comments_shape = comments.shape\n",
        "initial_posts_shape = posts.shape\n",
        "print(\"Number of records in comments df:\", initial_comments_shape[0])\n",
        "print(\"Number of records in posts df:\", initial_posts_shape[0])"
      ]
    },
    {
      "cell_type": "code",
      "execution_count": 13,
      "metadata": {
        "id": "rzxrPpHiKnYk"
      },
      "outputs": [],
      "source": [
        "# We keep columns we'll use in the analysis\n",
        "comments = comments[['subreddit.name','date','body','sentiment','label']]\n",
        "posts = posts[['subreddit.name','date','title']]"
      ]
    },
    {
      "cell_type": "code",
      "execution_count": 16,
      "metadata": {
        "id": "MuJE8-p0NJnN"
      },
      "outputs": [],
      "source": [
        "# Subset by date (keep every record from 2015 onwards)\n",
        "comments = comments[comments['date']>='2015-01-01']\n",
        "posts = posts[posts['date']>='2015-01-01']"
      ]
    },
    {
      "cell_type": "code",
      "execution_count": 18,
      "metadata": {
        "colab": {
          "base_uri": "https://localhost:8080/"
        },
        "id": "5ho7W3EHStML",
        "outputId": "d970a555-308f-42f8-d8a5-76d38ce8a99f"
      },
      "outputs": [
        {
          "output_type": "stream",
          "name": "stdout",
          "text": [
            "Number of records in comments df: 4338011\n",
            " Reduction of 4.71 % vs. original\n",
            "Number of records in posts df: 566808\n",
            " Reduction of 7.71 % vs. original\n"
          ]
        }
      ],
      "source": [
        "mid_comments_shape = comments.shape\n",
        "mid_posts_shape = posts.shape\n",
        "print(\"Number of records in comments df:\", mid_comments_shape[0])\n",
        "print(\" Reduction of\", round((initial_comments_shape[0] - mid_comments_shape[0]) * 100 / initial_comments_shape[0] - 1,2), \"% vs. original\")\n",
        "print(\"Number of records in posts df:\", mid_posts_shape[0])\n",
        "print(\" Reduction of\", round((initial_posts_shape[0] - mid_posts_shape[0]) * 100 / initial_posts_shape[0] - 1,2), \"% vs. original\")"
      ]
    },
    {
      "cell_type": "code",
      "execution_count": 19,
      "metadata": {
        "id": "TOKQy48gNozo"
      },
      "outputs": [],
      "source": [
        "# Subset by number of subreddits that have 5000 or more comments\n",
        "def count_categories(categories):\n",
        "    category_counts = {}\n",
        "    for category in categories:\n",
        "        if category in category_counts:\n",
        "            category_counts[category] += 1\n",
        "        else:\n",
        "            category_counts[category] = 1\n",
        "\n",
        "    return list(category_counts.items())"
      ]
    },
    {
      "cell_type": "code",
      "execution_count": 20,
      "metadata": {
        "id": "CD_1QQJcOQEn"
      },
      "outputs": [],
      "source": [
        "subreddits = count_categories(comments['subreddit.name'])\n",
        "sorted_subreddits = sorted(subreddits, key=lambda x: x[1], reverse=True)"
      ]
    },
    {
      "cell_type": "code",
      "execution_count": 21,
      "metadata": {
        "colab": {
          "base_uri": "https://localhost:8080/"
        },
        "id": "DawPBAe2OLDo",
        "outputId": "418c3763-a8da-456c-f49a-1feac3caf40a"
      },
      "outputs": [
        {
          "output_type": "execute_result",
          "data": {
            "text/plain": [
              "[('politics', 339167),\n",
              " ('worldnews', 332778),\n",
              " ('askreddit', 240389),\n",
              " ('collapse', 92702),\n",
              " ('news', 89337)]"
            ]
          },
          "metadata": {},
          "execution_count": 21
        }
      ],
      "source": [
        "sorted_subreddits[:5]"
      ]
    },
    {
      "cell_type": "code",
      "execution_count": 22,
      "metadata": {
        "id": "nChmhM1gN8SI"
      },
      "outputs": [],
      "source": [
        "#Dropping subreddits that have less than \"threshold\" posts (e.g. 3K, 10K, etc)\n",
        "def drop_tuples_below_threshold(tuples_list, threshold):\n",
        "    to_keep = []\n",
        "    cat_num = []\n",
        "    for name, count in tuples_list:\n",
        "        if count >= threshold:\n",
        "          to_keep.append(name)\n",
        "          cat_num.append((name, count))\n",
        "\n",
        "    return to_keep, cat_num"
      ]
    },
    {
      "cell_type": "code",
      "execution_count": 23,
      "metadata": {
        "id": "nokomd9GOXvx"
      },
      "outputs": [],
      "source": [
        "categories, counts_categories  = drop_tuples_below_threshold(sorted_subreddits, 100000)"
      ]
    },
    {
      "cell_type": "code",
      "execution_count": 24,
      "metadata": {
        "id": "q8703qWqR9cF"
      },
      "outputs": [],
      "source": [
        "comments = comments[comments['subreddit.name'].isin(categories)]\n",
        "posts = posts[posts['subreddit.name'].isin(categories)]"
      ]
    },
    {
      "cell_type": "code",
      "execution_count": 25,
      "metadata": {
        "colab": {
          "base_uri": "https://localhost:8080/"
        },
        "id": "4VsiI1GqSMjr",
        "outputId": "76ab23a7-6ce5-47d4-c0c3-31b58fcc33eb"
      },
      "outputs": [
        {
          "output_type": "stream",
          "name": "stdout",
          "text": [
            "Number of records in comments df: 912334\n",
            " Reduction of 79.17 % vs. original\n",
            "Number of records in posts df: 36416\n",
            " Reduction of 93.14 % vs. original\n"
          ]
        }
      ],
      "source": [
        "end_comments_shape = comments.shape\n",
        "end_posts_shape = posts.shape\n",
        "print(\"Number of records in comments df:\", end_comments_shape[0])\n",
        "print(\" Reduction of\", round((initial_comments_shape[0] - end_comments_shape[0]) * 100 / initial_comments_shape[0] - 1,2),\"% vs. original\")\n",
        "print(\"Number of records in posts df:\", end_posts_shape[0])\n",
        "print(\" Reduction of\", round((initial_posts_shape[0] - end_posts_shape[0]) * 100 / initial_posts_shape[0] - 1,2),\"% vs. original\")"
      ]
    },
    {
      "cell_type": "code",
      "execution_count": 30,
      "metadata": {
        "id": "0nDVSh05HPBk"
      },
      "outputs": [],
      "source": [
        "# Export files\n",
        "comments.to_csv(data_path + 'comments_filtered.csv', index=False)\n",
        "posts.to_csv(data_path + 'posts_filtered.csv', index=False)"
      ]
    }
  ],
  "metadata": {
    "colab": {
      "provenance": []
    },
    "kernelspec": {
      "display_name": "Python 3",
      "name": "python3"
    },
    "language_info": {
      "name": "python",
      "version": "3.11.8"
    }
  },
  "nbformat": 4,
  "nbformat_minor": 0
}
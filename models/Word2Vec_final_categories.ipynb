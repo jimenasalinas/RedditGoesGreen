{
  "nbformat": 4,
  "nbformat_minor": 0,
  "metadata": {
    "colab": {
      "provenance": [],
      "gpuType": "T4",
      "authorship_tag": "ABX9TyNjtg/ct3xMfFo1vDnnN1ZI",
      "include_colab_link": true
    },
    "kernelspec": {
      "name": "python3",
      "display_name": "Python 3"
    },
    "language_info": {
      "name": "python"
    },
    "accelerator": "GPU"
  },
  "cells": [
    {
      "cell_type": "markdown",
      "metadata": {
        "id": "view-in-github",
        "colab_type": "text"
      },
      "source": [
        "<a href=\"https://colab.research.google.com/github/jimenasalinas/RedditGoesGreen/blob/main/models/Word2Vec_final_categories.ipynb\" target=\"_parent\"><img src=\"https://colab.research.google.com/assets/colab-badge.svg\" alt=\"Open In Colab\"/></a>"
      ]
    },
    {
      "cell_type": "code",
      "source": [
        "import pandas as pd\n",
        "from gensim.models import Word2Vec\n",
        "from sklearn.model_selection import train_test_split\n",
        "from sklearn.preprocessing import scale\n",
        "from sklearn.linear_model import LogisticRegression\n",
        "from sklearn.ensemble import RandomForestClassifier\n",
        "from sklearn.svm import SVC\n",
        "from sklearn.metrics import accuracy_score, classification_report\n",
        "import numpy as np\n",
        "from google.colab import drive\n",
        "from datasets import Dataset\n",
        "import random\n",
        "import csv\n",
        "import nltk\n",
        "from nltk.corpus import stopwords\n",
        "from gensim.models import KeyedVectors\n",
        "from sklearn.metrics import f1_score"
      ],
      "metadata": {
        "id": "mD2RUX7XHXbH"
      },
      "execution_count": 10,
      "outputs": []
    },
    {
      "cell_type": "code",
      "source": [
        "drive.mount('/content/drive')\n",
        "\n",
        "# Load data\n",
        "data_path = \"/content/drive/My Drive/group_project/archive/\""
      ],
      "metadata": {
        "colab": {
          "base_uri": "https://localhost:8080/"
        },
        "id": "AZP_3KFOHu8V",
        "outputId": "312b02da-eeef-47fc-be48-5b376efc4f7a"
      },
      "execution_count": 3,
      "outputs": [
        {
          "output_type": "stream",
          "name": "stdout",
          "text": [
            "Mounted at /content/drive\n"
          ]
        }
      ]
    },
    {
      "cell_type": "code",
      "source": [
        "# !pip install datasets"
      ],
      "metadata": {
        "id": "AqqP9W_99pqz"
      },
      "execution_count": null,
      "outputs": []
    },
    {
      "cell_type": "code",
      "source": [
        "# Threshold data\n",
        "dtype_dict = {'label': int}\n",
        "comments = pd.read_csv(data_path + \"comments_filtered_by_categories.csv\", quoting=csv.QUOTE_NONNUMERIC, dtype=dtype_dict)"
      ],
      "metadata": {
        "id": "1sAFcvdhX3Zy"
      },
      "execution_count": 4,
      "outputs": []
    },
    {
      "cell_type": "markdown",
      "source": [
        "Futurology"
      ],
      "metadata": {
        "id": "cIyrfdMNJKii"
      }
    },
    {
      "cell_type": "code",
      "source": [
        "# Split the data into features and target label\n",
        "X = comments[comments[\"subreddit.name\"]=='futurology'].drop('label', axis=1)  # Features (all columns except 'label')\n",
        "y = comments[comments[\"subreddit.name\"]=='futurology']['label']  # Target label\n",
        "\n",
        "# Splitting the dataset into training and testing sets with 80% training data and 20% testing data\n",
        "X_train, X_test, y_train, y_test = train_test_split(X, y, test_size=0.20, random_state=120938)\n"
      ],
      "metadata": {
        "id": "IjDTN4zk-gAb"
      },
      "execution_count": 5,
      "outputs": []
    },
    {
      "cell_type": "code",
      "source": [
        "# Number of observations for the smaller datasets\n",
        "train_obs = 15000\n",
        "test_obs = 1500\n",
        "\n",
        "# Training set\n",
        "# Shuffling DataFrame\n",
        "X_train_shuffled = X_train.sample(n=len(X_train), random_state=42).reset_index(drop=True)\n",
        "y_train_shuffled = y_train.sample(n=len(y_train), random_state=42).reset_index(drop=True)\n",
        "# Selecting the first 'train_obs' samples\n",
        "small_X_train = X_train_shuffled.head(train_obs)\n",
        "small_y_train = y_train_shuffled.head(train_obs)\n",
        "\n",
        "# Testing set\n",
        "# Shuffling DataFrame\n",
        "X_test_shuffled = X_test.sample(n=len(X_test), random_state=42).reset_index(drop=True)\n",
        "y_test_shuffled = y_test.sample(n=len(y_test), random_state=42).reset_index(drop=True)\n",
        "# Selecting the first 'test_obs' samples\n",
        "small_X_test = X_test_shuffled.head(test_obs)\n",
        "small_y_test = y_test_shuffled.head(test_obs)"
      ],
      "metadata": {
        "id": "fhBLSKVFAErY"
      },
      "execution_count": 6,
      "outputs": []
    },
    {
      "cell_type": "code",
      "source": [
        "# Preprocessing\n",
        "# nltk.download('stopwords')\n",
        "# stop_words = stopwords.words('english')\n",
        "\n",
        "# Function to remove stopwords\n",
        "def remove_stopwords(transcript):\n",
        "    words = transcript.split()\n",
        "    filtered_words = [word for word in words if word not in stop_words]\n",
        "    return ' '.join(filtered_words)\n",
        "\n",
        "def clean_transcript(df):\n",
        "    df['clean_transcript'] = df['body'].str.lower().str.replace(r'[^\\w\\s]', '', regex=True)\n",
        "    df['clean_transcript'] = df['clean_transcript'].astype(str).apply(remove_stopwords)\n",
        "    df.dropna(subset=['clean_transcript'], inplace=True)\n",
        "    return df\n",
        "\n",
        "# Apply cleaning and stopword removal to your dataset\n",
        "small_X_train = clean_transcript(small_X_train)\n",
        "small_X_test = clean_transcript(small_X_test)\n",
        "\n",
        "# Tokenize the cleaned transcripts\n",
        "small_X_train['tokenized'] = small_X_train['clean_transcript'].apply(lambda x: x.split())\n",
        "small_X_test['tokenized'] = small_X_test['clean_transcript'].apply(lambda x: x.split())"
      ],
      "metadata": {
        "id": "9lL9hoisCzbx"
      },
      "execution_count": null,
      "outputs": []
    },
    {
      "cell_type": "code",
      "source": [
        "# Train a Word2Vec model\n",
        "model = Word2Vec(sentences=small_X_train['tokenized'], vector_size=300, window=5, min_count=1, workers=4)\n",
        "\n",
        "# Generate a feature vector for each document\n",
        "def comment_vector(comment):\n",
        "    # remove out-of-vocabulary words\n",
        "    comment = [word for word in comment if word in model.wv.index_to_key]\n",
        "    if not comment:\n",
        "        return np.zeros(model.vector_size)\n",
        "    return np.mean(model.wv[comment], axis=0)\n",
        "\n",
        "small_X_train['doc_vector'] = small_X_train['tokenized'].apply(comment_vector)\n",
        "small_X_test['doc_vector'] = small_X_test['tokenized'].apply(comment_vector)"
      ],
      "metadata": {
        "id": "xgSOM78KK62Q"
      },
      "execution_count": null,
      "outputs": []
    },
    {
      "cell_type": "code",
      "source": [
        "X_train_vectors = np.stack(small_X_train['doc_vector'].values)\n",
        "X_test_vectors = np.stack(small_X_test['doc_vector'].values)"
      ],
      "metadata": {
        "id": "v5kqu3fDIdTS"
      },
      "execution_count": 9,
      "outputs": []
    },
    {
      "cell_type": "code",
      "source": [
        "# Initialize the Logistic Regression model\n",
        "lr_model = LogisticRegression(max_iter=1000)\n",
        "\n",
        "# Fit the model\n",
        "lr_model.fit(X_train_vectors, small_y_train)\n",
        "\n",
        "# Predict on the test set\n",
        "lr_predictions = lr_model.predict(X_test_vectors)\n",
        "\n",
        "# Evaluate the model\n",
        "print(\"Logistic Regression Accuracy:\", accuracy_score(small_y_test, lr_predictions))\n",
        "print(\"F1 Score:\", f1_score(small_y_test, lr_predictions))\n"
      ],
      "metadata": {
        "colab": {
          "base_uri": "https://localhost:8080/"
        },
        "id": "01SCRKGnFnpP",
        "outputId": "a3c2d944-e0bc-4d53-d6f0-1e4df1af2ee3"
      },
      "execution_count": 11,
      "outputs": [
        {
          "output_type": "stream",
          "name": "stdout",
          "text": [
            "Logistic Regression Accuracy: 0.636\n",
            "F1 Score: 0.6374501992031874\n"
          ]
        }
      ]
    },
    {
      "cell_type": "markdown",
      "source": [
        "**Pretrained model**"
      ],
      "metadata": {
        "id": "CBBJ_qTZaVSW"
      }
    },
    {
      "cell_type": "code",
      "source": [
        "# # Path to the Google News Word2Vec model\n",
        "# corpus_path = data_path + \"GoogleNews-vectors-negative300.bin.gz\"\n",
        "\n",
        "# # Load the pre-trained Word2Vec model\n",
        "model_pretrained = KeyedVectors.load_word2vec_format(corpus_path, binary=True)\n",
        "\n",
        "# Generate a feature vector for each document\n",
        "def comment_vector(comment):\n",
        "    # Remove out-of-vocabulary words\n",
        "    comment = [word for word in comment if word in model_pretrained.key_to_index]\n",
        "    if not comment:\n",
        "        return np.zeros(model_pretrained.vector_size)\n",
        "    # Use model_pretrained directly to get word vectors\n",
        "    return np.mean([model_pretrained[word] for word in comment], axis=0)\n",
        "\n",
        "small_X_train['doc_vector_pretrained'] = small_X_train['tokenized'].apply(comment_vector)\n",
        "small_X_test['doc_vector_pretrained'] = small_X_test['tokenized'].apply(comment_vector)\n",
        "\n",
        "X_train_vectors_pretrained = np.stack(small_X_train['doc_vector_pretrained'].values)\n",
        "X_test_vectors_pretrained = np.stack(small_X_test['doc_vector_pretrained'].values)"
      ],
      "metadata": {
        "id": "kXUnxptBZSYm"
      },
      "execution_count": null,
      "outputs": []
    },
    {
      "cell_type": "code",
      "source": [
        "# Initialize the Logistic Regression model\n",
        "lr_model = LogisticRegression(max_iter=1000)\n",
        "\n",
        "# Fit the model\n",
        "lr_model.fit(X_train_vectors_pretrained, small_y_train)\n",
        "\n",
        "# Predict on the test set\n",
        "lr_predictions = lr_model.predict(X_test_vectors_pretrained)\n",
        "\n",
        "# Evaluate the model\n",
        "print(\"Logistic Regression Accuracy:\", accuracy_score(small_y_test, lr_predictions))\n",
        "print(\"F1 Score:\", f1_score(small_y_test, lr_predictions))"
      ],
      "metadata": {
        "colab": {
          "base_uri": "https://localhost:8080/"
        },
        "id": "iqC-RkZLbMtM",
        "outputId": "0c6a7898-ce17-4448-ebc4-e60d33b0d57e"
      },
      "execution_count": 13,
      "outputs": [
        {
          "output_type": "stream",
          "name": "stdout",
          "text": [
            "Logistic Regression Accuracy: 0.7406666666666667\n",
            "F1 Score: 0.7455853499018967\n"
          ]
        }
      ]
    },
    {
      "cell_type": "markdown",
      "source": [
        "Australia"
      ],
      "metadata": {
        "id": "C9g58Toh_N6B"
      }
    },
    {
      "cell_type": "code",
      "source": [
        "# Split the data into features and target label\n",
        "X = comments[comments[\"subreddit.name\"]=='australia'].drop('label', axis=1)  # Features (all columns except 'label')\n",
        "y = comments[comments[\"subreddit.name\"]=='australia']['label']  # Target label\n",
        "\n",
        "# Splitting the dataset into training and testing sets with 80% training data and 20% testing data\n",
        "X_train, X_test, y_train, y_test = train_test_split(X, y, test_size=0.20, random_state=120938)"
      ],
      "metadata": {
        "id": "ejVAs1S1Caas"
      },
      "execution_count": 37,
      "outputs": []
    },
    {
      "cell_type": "code",
      "source": [
        "# Number of observations for the smaller datasets\n",
        "train_obs = 15000\n",
        "test_obs = 1500\n",
        "\n",
        "# Training set\n",
        "# Shuffling DataFrame\n",
        "X_train_shuffled = X_train.sample(n=len(X_train), random_state=42).reset_index(drop=True)\n",
        "y_train_shuffled = y_train.sample(n=len(y_train), random_state=42).reset_index(drop=True)\n",
        "# Selecting the first 'train_obs' samples\n",
        "small_X_train = X_train_shuffled.head(train_obs)\n",
        "small_y_train = y_train_shuffled.head(train_obs)\n",
        "\n",
        "# Testing set\n",
        "# Shuffling DataFrame\n",
        "X_test_shuffled = X_test.sample(n=len(X_test), random_state=42).reset_index(drop=True)\n",
        "y_test_shuffled = y_test.sample(n=len(y_test), random_state=42).reset_index(drop=True)\n",
        "# Selecting the first 'test_obs' samples\n",
        "small_X_test = X_test_shuffled.head(test_obs)\n",
        "small_y_test = y_test_shuffled.head(test_obs)"
      ],
      "metadata": {
        "id": "0L9alCocLL38"
      },
      "execution_count": 38,
      "outputs": []
    },
    {
      "cell_type": "code",
      "source": [
        "# Apply cleaning and stopword removal to your dataset\n",
        "small_X_train = clean_transcript(small_X_train)\n",
        "small_X_test = clean_transcript(small_X_test)\n",
        "\n",
        "# Tokenize the cleaned transcripts\n",
        "small_X_train['tokenized'] = small_X_train['clean_transcript'].apply(lambda x: x.split())\n",
        "small_X_test['tokenized'] = small_X_test['clean_transcript'].apply(lambda x: x.split())"
      ],
      "metadata": {
        "id": "w4vvBBryLMe_"
      },
      "execution_count": null,
      "outputs": []
    },
    {
      "cell_type": "code",
      "source": [
        "# Train a Word2Vec model\n",
        "model = Word2Vec(sentences=small_X_train['tokenized'], vector_size=300, window=5, min_count=1, workers=4)\n",
        "\n",
        "# Generate a feature vector for each document\n",
        "def comment_vector(comment):\n",
        "    # remove out-of-vocabulary words\n",
        "    comment = [word for word in comment if word in model.wv.index_to_key]\n",
        "    if not comment:\n",
        "        return np.zeros(model.vector_size)\n",
        "    return np.mean(model.wv[comment], axis=0)\n",
        "\n",
        "small_X_train['doc_vector'] = small_X_train['tokenized'].apply(comment_vector)\n",
        "small_X_test['doc_vector'] = small_X_test['tokenized'].apply(comment_vector)\n",
        "\n",
        "X_train_vectors = np.stack(small_X_train['doc_vector'].values)\n",
        "X_test_vectors = np.stack(small_X_test['doc_vector'].values)"
      ],
      "metadata": {
        "id": "rWF3MuYLLM7q"
      },
      "execution_count": null,
      "outputs": []
    },
    {
      "cell_type": "code",
      "source": [
        "# Initialize the Logistic Regression model\n",
        "lr_model = LogisticRegression(max_iter=1000)\n",
        "\n",
        "# Fit the model\n",
        "lr_model.fit(X_train_vectors, small_y_train)\n",
        "\n",
        "# Predict on the test set\n",
        "lr_predictions = lr_model.predict(X_test_vectors)\n",
        "\n",
        "# Evaluate the model\n",
        "print(\"Logistic Regression Accuracy:\", accuracy_score(small_y_test, lr_predictions))\n",
        "print(\"F1 Score:\", f1_score(small_y_test, lr_predictions))"
      ],
      "metadata": {
        "colab": {
          "base_uri": "https://localhost:8080/"
        },
        "id": "XSemRR2ELbXQ",
        "outputId": "e843d6e7-c78e-49d6-e1b9-267a18ad7c87"
      },
      "execution_count": 41,
      "outputs": [
        {
          "output_type": "stream",
          "name": "stdout",
          "text": [
            "Logistic Regression Accuracy: 0.6546666666666666\n",
            "F1 Score: 0.6093514328808446\n"
          ]
        }
      ]
    },
    {
      "cell_type": "markdown",
      "source": [
        "Pretrained australia"
      ],
      "metadata": {
        "id": "NcRvlkCFLyqX"
      }
    },
    {
      "cell_type": "code",
      "source": [
        "# Generate a feature vector for each document\n",
        "def comment_vector(comment):\n",
        "    # Remove out-of-vocabulary words\n",
        "    comment = [word for word in comment if word in model_pretrained.key_to_index]\n",
        "    if not comment:\n",
        "        return np.zeros(model_pretrained.vector_size)\n",
        "    # Use model_pretrained directly to get word vectors\n",
        "    return np.mean([model_pretrained[word] for word in comment], axis=0)\n",
        "\n",
        "small_X_train['doc_vector_pretrained'] = small_X_train['tokenized'].apply(comment_vector)\n",
        "small_X_test['doc_vector_pretrained'] = small_X_test['tokenized'].apply(comment_vector)\n",
        "\n",
        "X_train_vectors_pretrained = np.stack(small_X_train['doc_vector_pretrained'].values)\n",
        "X_test_vectors_pretrained = np.stack(small_X_test['doc_vector_pretrained'].values)"
      ],
      "metadata": {
        "id": "jjtTDTDUL1gp"
      },
      "execution_count": null,
      "outputs": []
    },
    {
      "cell_type": "code",
      "source": [
        "# Initialize the Logistic Regression model\n",
        "lr_model = LogisticRegression(max_iter=1000)\n",
        "\n",
        "# Fit the model\n",
        "lr_model.fit(X_train_vectors_pretrained, small_y_train)\n",
        "\n",
        "# Predict on the test set\n",
        "lr_predictions = lr_model.predict(X_test_vectors_pretrained)\n",
        "\n",
        "# Evaluate the model\n",
        "print(\"Logistic Regression Accuracy:\", accuracy_score(small_y_test, lr_predictions))\n",
        "print(\"F1 Score:\", f1_score(small_y_test, lr_predictions))"
      ],
      "metadata": {
        "colab": {
          "base_uri": "https://localhost:8080/"
        },
        "id": "uOtlAZ3ZL20-",
        "outputId": "19333e72-c380-4723-81f9-51bf53db2e37"
      },
      "execution_count": 45,
      "outputs": [
        {
          "output_type": "stream",
          "name": "stdout",
          "text": [
            "Logistic Regression Accuracy: 0.7673333333333333\n",
            "F1 Score: 0.7523066004258339\n"
          ]
        }
      ]
    },
    {
      "cell_type": "markdown",
      "source": [
        "Canada"
      ],
      "metadata": {
        "id": "CNgs8mYIaBy3"
      }
    },
    {
      "cell_type": "code",
      "source": [
        "# Split the data into features and target label\n",
        "X = comments[comments[\"subreddit.name\"]=='canada'].drop('label', axis=1)  # Features (all columns except 'label')\n",
        "y = comments[comments[\"subreddit.name\"]=='canada']['label']  # Target label\n",
        "\n",
        "# Splitting the dataset into training and testing sets with 80% training data and 20% testing data\n",
        "X_train, X_test, y_train, y_test = train_test_split(X, y, test_size=0.20, random_state=120938)"
      ],
      "metadata": {
        "id": "YLos-sWgODIy"
      },
      "execution_count": 52,
      "outputs": []
    },
    {
      "cell_type": "code",
      "source": [
        "# Number of observations for the smaller datasets\n",
        "train_obs = 15000\n",
        "test_obs = 1500\n",
        "\n",
        "# Training set\n",
        "# Shuffling DataFrame\n",
        "X_train_shuffled = X_train.sample(n=len(X_train), random_state=42).reset_index(drop=True)\n",
        "y_train_shuffled = y_train.sample(n=len(y_train), random_state=42).reset_index(drop=True)\n",
        "# Selecting the first 'train_obs' samples\n",
        "small_X_train = X_train_shuffled.head(train_obs)\n",
        "small_y_train = y_train_shuffled.head(train_obs)\n",
        "\n",
        "# Testing set\n",
        "# Shuffling DataFrame\n",
        "X_test_shuffled = X_test.sample(n=len(X_test), random_state=42).reset_index(drop=True)\n",
        "y_test_shuffled = y_test.sample(n=len(y_test), random_state=42).reset_index(drop=True)\n",
        "# Selecting the first 'test_obs' samples\n",
        "small_X_test = X_test_shuffled.head(test_obs)\n",
        "small_y_test = y_test_shuffled.head(test_obs)"
      ],
      "metadata": {
        "id": "UehNPsShaMU_"
      },
      "execution_count": 53,
      "outputs": []
    },
    {
      "cell_type": "code",
      "source": [
        "# Apply cleaning and stopword removal to your dataset\n",
        "small_X_train = clean_transcript(small_X_train)\n",
        "small_X_test = clean_transcript(small_X_test)\n",
        "\n",
        "# Tokenize the cleaned transcripts\n",
        "small_X_train['tokenized'] = small_X_train['clean_transcript'].apply(lambda x: x.split())\n",
        "small_X_test['tokenized'] = small_X_test['clean_transcript'].apply(lambda x: x.split())"
      ],
      "metadata": {
        "id": "1HDXK0L2aPt6"
      },
      "execution_count": null,
      "outputs": []
    },
    {
      "cell_type": "code",
      "source": [
        "# Train a Word2Vec model\n",
        "model = Word2Vec(sentences=small_X_train['tokenized'], vector_size=300, window=5, min_count=1, workers=4)\n",
        "\n",
        "# Generate a feature vector for each document\n",
        "def comment_vector(comment):\n",
        "    # remove out-of-vocabulary words\n",
        "    comment = [word for word in comment if word in model.wv.index_to_key]\n",
        "    if not comment:\n",
        "        return np.zeros(model.vector_size)\n",
        "    return np.mean(model.wv[comment], axis=0)\n",
        "\n",
        "small_X_train['doc_vector'] = small_X_train['tokenized'].apply(comment_vector)\n",
        "small_X_test['doc_vector'] = small_X_test['tokenized'].apply(comment_vector)\n",
        "\n",
        "X_train_vectors = np.stack(small_X_train['doc_vector'].values)\n",
        "X_test_vectors = np.stack(small_X_test['doc_vector'].values)"
      ],
      "metadata": {
        "id": "kbP8OqO8aS-A"
      },
      "execution_count": null,
      "outputs": []
    },
    {
      "cell_type": "code",
      "source": [
        "# Initialize the Logistic Regression model\n",
        "lr_model = LogisticRegression(max_iter=1000)\n",
        "\n",
        "# Fit the model\n",
        "lr_model.fit(X_train_vectors, small_y_train)\n",
        "\n",
        "# Predict on the test set\n",
        "lr_predictions = lr_model.predict(X_test_vectors)\n",
        "\n",
        "# Evaluate the model\n",
        "print(\"Logistic Regression Accuracy:\", accuracy_score(small_y_test, lr_predictions))\n",
        "print(\"F1 Score:\", f1_score(small_y_test, lr_predictions))"
      ],
      "metadata": {
        "colab": {
          "base_uri": "https://localhost:8080/"
        },
        "id": "hsXYDbTYaWJD",
        "outputId": "878689e5-597f-477d-921f-2a60a0eb5bea"
      },
      "execution_count": 56,
      "outputs": [
        {
          "output_type": "stream",
          "name": "stdout",
          "text": [
            "Logistic Regression Accuracy: 0.6126666666666667\n",
            "F1 Score: 0.6415792720542874\n"
          ]
        }
      ]
    },
    {
      "cell_type": "markdown",
      "source": [
        "Pretrained Canada"
      ],
      "metadata": {
        "id": "co__XxdnacWO"
      }
    },
    {
      "cell_type": "code",
      "source": [
        "# Generate a feature vector for each document\n",
        "def comment_vector(comment):\n",
        "    # Remove out-of-vocabulary words\n",
        "    comment = [word for word in comment if word in model_pretrained.key_to_index]\n",
        "    if not comment:\n",
        "        return np.zeros(model_pretrained.vector_size)\n",
        "    # Use model_pretrained directly to get word vectors\n",
        "    return np.mean([model_pretrained[word] for word in comment], axis=0)\n",
        "\n",
        "small_X_train['doc_vector_pretrained'] = small_X_train['tokenized'].apply(comment_vector)\n",
        "small_X_test['doc_vector_pretrained'] = small_X_test['tokenized'].apply(comment_vector)\n",
        "\n",
        "X_train_vectors_pretrained = np.stack(small_X_train['doc_vector_pretrained'].values)\n",
        "X_test_vectors_pretrained = np.stack(small_X_test['doc_vector_pretrained'].values)"
      ],
      "metadata": {
        "id": "4Sd2qFntadtn"
      },
      "execution_count": null,
      "outputs": []
    },
    {
      "cell_type": "code",
      "source": [
        "# Initialize the Logistic Regression model\n",
        "lr_model = LogisticRegression(max_iter=1000)\n",
        "\n",
        "# Fit the model\n",
        "lr_model.fit(X_train_vectors_pretrained, small_y_train)\n",
        "\n",
        "# Predict on the test set\n",
        "lr_predictions = lr_model.predict(X_test_vectors_pretrained)\n",
        "\n",
        "# Evaluate the model\n",
        "print(\"Logistic Regression Accuracy:\", accuracy_score(small_y_test, lr_predictions))\n",
        "print(\"F1 Score:\", f1_score(small_y_test, lr_predictions))"
      ],
      "metadata": {
        "colab": {
          "base_uri": "https://localhost:8080/"
        },
        "id": "cREh-kRAagt6",
        "outputId": "ad469dea-f7e3-4e48-c577-29acea7d0ca0"
      },
      "execution_count": 58,
      "outputs": [
        {
          "output_type": "stream",
          "name": "stdout",
          "text": [
            "Logistic Regression Accuracy: 0.736\n",
            "F1 Score: 0.7408376963350785\n"
          ]
        }
      ]
    },
    {
      "cell_type": "markdown",
      "source": [
        "Collapse"
      ],
      "metadata": {
        "id": "TYPLeN1xcUHQ"
      }
    },
    {
      "cell_type": "code",
      "source": [
        "# Split the data into features and target label\n",
        "X = comments[comments[\"subreddit.name\"]=='collapse'].drop('label', axis=1)  # Features (all columns except 'label')\n",
        "y = comments[comments[\"subreddit.name\"]=='collapse']['label']  # Target label\n",
        "\n",
        "# Splitting the dataset into training and testing sets with 80% training data and 20% testing data\n",
        "X_train, X_test, y_train, y_test = train_test_split(X, y, test_size=0.20, random_state=120938)"
      ],
      "metadata": {
        "id": "Ta5pt40mcVt4"
      },
      "execution_count": 59,
      "outputs": []
    },
    {
      "cell_type": "code",
      "source": [
        "# Number of observations for the smaller datasets\n",
        "train_obs = 15000\n",
        "test_obs = 1500\n",
        "\n",
        "# Training set\n",
        "# Shuffling DataFrame\n",
        "X_train_shuffled = X_train.sample(n=len(X_train), random_state=42).reset_index(drop=True)\n",
        "y_train_shuffled = y_train.sample(n=len(y_train), random_state=42).reset_index(drop=True)\n",
        "# Selecting the first 'train_obs' samples\n",
        "small_X_train = X_train_shuffled.head(train_obs)\n",
        "small_y_train = y_train_shuffled.head(train_obs)\n",
        "\n",
        "# Testing set\n",
        "# Shuffling DataFrame\n",
        "X_test_shuffled = X_test.sample(n=len(X_test), random_state=42).reset_index(drop=True)\n",
        "y_test_shuffled = y_test.sample(n=len(y_test), random_state=42).reset_index(drop=True)\n",
        "# Selecting the first 'test_obs' samples\n",
        "small_X_test = X_test_shuffled.head(test_obs)\n",
        "small_y_test = y_test_shuffled.head(test_obs)"
      ],
      "metadata": {
        "id": "7J7ceO10ccK4"
      },
      "execution_count": 60,
      "outputs": []
    },
    {
      "cell_type": "code",
      "source": [
        "# Apply cleaning and stopword removal to your dataset\n",
        "small_X_train = clean_transcript(small_X_train)\n",
        "small_X_test = clean_transcript(small_X_test)\n",
        "\n",
        "# Tokenize the cleaned transcripts\n",
        "small_X_train['tokenized'] = small_X_train['clean_transcript'].apply(lambda x: x.split())\n",
        "small_X_test['tokenized'] = small_X_test['clean_transcript'].apply(lambda x: x.split())"
      ],
      "metadata": {
        "id": "LdLMcNzYcfAo"
      },
      "execution_count": null,
      "outputs": []
    },
    {
      "cell_type": "code",
      "source": [
        "# Train a Word2Vec model\n",
        "model = Word2Vec(sentences=small_X_train['tokenized'], vector_size=300, window=5, min_count=1, workers=4)\n",
        "\n",
        "# Generate a feature vector for each document\n",
        "def comment_vector(comment):\n",
        "    # remove out-of-vocabulary words\n",
        "    comment = [word for word in comment if word in model.wv.index_to_key]\n",
        "    if not comment:\n",
        "        return np.zeros(model.vector_size)\n",
        "    return np.mean(model.wv[comment], axis=0)\n",
        "\n",
        "small_X_train['doc_vector'] = small_X_train['tokenized'].apply(comment_vector)\n",
        "small_X_test['doc_vector'] = small_X_test['tokenized'].apply(comment_vector)\n",
        "\n",
        "X_train_vectors = np.stack(small_X_train['doc_vector'].values)\n",
        "X_test_vectors = np.stack(small_X_test['doc_vector'].values)"
      ],
      "metadata": {
        "id": "Bg6_jJE6ciDK"
      },
      "execution_count": null,
      "outputs": []
    },
    {
      "cell_type": "code",
      "source": [
        "# Initialize the Logistic Regression model\n",
        "lr_model = LogisticRegression(max_iter=1000)\n",
        "\n",
        "# Fit the model\n",
        "lr_model.fit(X_train_vectors, small_y_train)\n",
        "\n",
        "# Predict on the test set\n",
        "lr_predictions = lr_model.predict(X_test_vectors)\n",
        "\n",
        "# Evaluate the model\n",
        "print(\"Logistic Regression Accuracy:\", accuracy_score(small_y_test, lr_predictions))\n",
        "print(\"F1 Score:\", f1_score(small_y_test, lr_predictions))"
      ],
      "metadata": {
        "colab": {
          "base_uri": "https://localhost:8080/"
        },
        "id": "5YHxyBv6clyU",
        "outputId": "9a96c714-bfd0-40df-909a-17d5a421f49a"
      },
      "execution_count": 63,
      "outputs": [
        {
          "output_type": "stream",
          "name": "stdout",
          "text": [
            "Logistic Regression Accuracy: 0.6586666666666666\n",
            "F1 Score: 0.5151515151515151\n"
          ]
        }
      ]
    },
    {
      "cell_type": "markdown",
      "source": [
        "Pretrained collapse"
      ],
      "metadata": {
        "id": "PRiFgZPVctWe"
      }
    },
    {
      "cell_type": "code",
      "source": [
        "# Generate a feature vector for each document\n",
        "def comment_vector(comment):\n",
        "    # Remove out-of-vocabulary words\n",
        "    comment = [word for word in comment if word in model_pretrained.key_to_index]\n",
        "    if not comment:\n",
        "        return np.zeros(model_pretrained.vector_size)\n",
        "    # Use model_pretrained directly to get word vectors\n",
        "    return np.mean([model_pretrained[word] for word in comment], axis=0)\n",
        "\n",
        "small_X_train['doc_vector_pretrained'] = small_X_train['tokenized'].apply(comment_vector)\n",
        "small_X_test['doc_vector_pretrained'] = small_X_test['tokenized'].apply(comment_vector)\n",
        "\n",
        "X_train_vectors_pretrained = np.stack(small_X_train['doc_vector_pretrained'].values)\n",
        "X_test_vectors_pretrained = np.stack(small_X_test['doc_vector_pretrained'].values)"
      ],
      "metadata": {
        "id": "hsCdCU-IcvUu"
      },
      "execution_count": null,
      "outputs": []
    },
    {
      "cell_type": "code",
      "source": [
        "# Initialize the Logistic Regression model\n",
        "lr_model = LogisticRegression(max_iter=1000)\n",
        "\n",
        "# Fit the model\n",
        "lr_model.fit(X_train_vectors_pretrained, small_y_train)\n",
        "\n",
        "# Predict on the test set\n",
        "lr_predictions = lr_model.predict(X_test_vectors_pretrained)\n",
        "\n",
        "# Evaluate the model\n",
        "print(\"Logistic Regression Accuracy:\", accuracy_score(small_y_test, lr_predictions))\n",
        "print(\"F1 Score:\", f1_score(small_y_test, lr_predictions))"
      ],
      "metadata": {
        "colab": {
          "base_uri": "https://localhost:8080/"
        },
        "id": "evOK_QipcyKW",
        "outputId": "f072aa3e-7899-40ad-aae1-1c87355b3f09"
      },
      "execution_count": 65,
      "outputs": [
        {
          "output_type": "stream",
          "name": "stdout",
          "text": [
            "Logistic Regression Accuracy: 0.7426666666666667\n",
            "F1 Score: 0.67008547008547\n"
          ]
        }
      ]
    },
    {
      "cell_type": "markdown",
      "source": [
        "the_donald"
      ],
      "metadata": {
        "id": "YA75uxYIdL_7"
      }
    },
    {
      "cell_type": "code",
      "source": [
        "# Split the data into features and target label\n",
        "X = comments[comments[\"subreddit.name\"]=='the_donald'].drop('label', axis=1)  # Features (all columns except 'label')\n",
        "y = comments[comments[\"subreddit.name\"]=='the_donald']['label']  # Target label\n",
        "\n",
        "# Splitting the dataset into training and testing sets with 80% training data and 20% testing data\n",
        "X_train, X_test, y_train, y_test = train_test_split(X, y, test_size=0.20, random_state=120938)"
      ],
      "metadata": {
        "id": "dhgGFHsNdPTu"
      },
      "execution_count": 66,
      "outputs": []
    },
    {
      "cell_type": "code",
      "source": [
        "# Number of observations for the smaller datasets\n",
        "train_obs = 15000\n",
        "test_obs = 1500\n",
        "\n",
        "# Training set\n",
        "# Shuffling DataFrame\n",
        "X_train_shuffled = X_train.sample(n=len(X_train), random_state=42).reset_index(drop=True)\n",
        "y_train_shuffled = y_train.sample(n=len(y_train), random_state=42).reset_index(drop=True)\n",
        "# Selecting the first 'train_obs' samples\n",
        "small_X_train = X_train_shuffled.head(train_obs)\n",
        "small_y_train = y_train_shuffled.head(train_obs)\n",
        "\n",
        "# Testing set\n",
        "# Shuffling DataFrame\n",
        "X_test_shuffled = X_test.sample(n=len(X_test), random_state=42).reset_index(drop=True)\n",
        "y_test_shuffled = y_test.sample(n=len(y_test), random_state=42).reset_index(drop=True)\n",
        "# Selecting the first 'test_obs' samples\n",
        "small_X_test = X_test_shuffled.head(test_obs)\n",
        "small_y_test = y_test_shuffled.head(test_obs)"
      ],
      "metadata": {
        "id": "NskA4o7wdZ8u"
      },
      "execution_count": 67,
      "outputs": []
    },
    {
      "cell_type": "code",
      "source": [
        "# Apply cleaning and stopword removal to your dataset\n",
        "small_X_train = clean_transcript(small_X_train)\n",
        "small_X_test = clean_transcript(small_X_test)\n",
        "\n",
        "# Tokenize the cleaned transcripts\n",
        "small_X_train['tokenized'] = small_X_train['clean_transcript'].apply(lambda x: x.split())\n",
        "small_X_test['tokenized'] = small_X_test['clean_transcript'].apply(lambda x: x.split())"
      ],
      "metadata": {
        "id": "ZK0vsQb8dc1C"
      },
      "execution_count": null,
      "outputs": []
    },
    {
      "cell_type": "code",
      "source": [
        "# Train a Word2Vec model\n",
        "model = Word2Vec(sentences=small_X_train['tokenized'], vector_size=300, window=5, min_count=1, workers=4)\n",
        "\n",
        "# Generate a feature vector for each document\n",
        "def comment_vector(comment):\n",
        "    # remove out-of-vocabulary words\n",
        "    comment = [word for word in comment if word in model.wv.index_to_key]\n",
        "    if not comment:\n",
        "        return np.zeros(model.vector_size)\n",
        "    return np.mean(model.wv[comment], axis=0)\n",
        "\n",
        "small_X_train['doc_vector'] = small_X_train['tokenized'].apply(comment_vector)\n",
        "small_X_test['doc_vector'] = small_X_test['tokenized'].apply(comment_vector)\n",
        "\n",
        "X_train_vectors = np.stack(small_X_train['doc_vector'].values)\n",
        "X_test_vectors = np.stack(small_X_test['doc_vector'].values)"
      ],
      "metadata": {
        "id": "hDl_yALudf8S"
      },
      "execution_count": null,
      "outputs": []
    },
    {
      "cell_type": "code",
      "source": [
        "# Initialize the Logistic Regression model\n",
        "lr_model = LogisticRegression(max_iter=1000)\n",
        "\n",
        "# Fit the model\n",
        "lr_model.fit(X_train_vectors, small_y_train)\n",
        "\n",
        "# Predict on the test set\n",
        "lr_predictions = lr_model.predict(X_test_vectors)\n",
        "\n",
        "# Evaluate the model\n",
        "print(\"Logistic Regression Accuracy:\", accuracy_score(small_y_test, lr_predictions))\n",
        "print(\"F1 Score:\", f1_score(small_y_test, lr_predictions))"
      ],
      "metadata": {
        "colab": {
          "base_uri": "https://localhost:8080/"
        },
        "id": "AkU6GbpGeD3S",
        "outputId": "4d2e3ba6-4a08-41c7-c617-816c25671d7c"
      },
      "execution_count": 70,
      "outputs": [
        {
          "output_type": "stream",
          "name": "stdout",
          "text": [
            "Logistic Regression Accuracy: 0.6406666666666667\n",
            "F1 Score: 0.5907365223993926\n"
          ]
        }
      ]
    },
    {
      "cell_type": "markdown",
      "source": [
        "Pretrained the_donald"
      ],
      "metadata": {
        "id": "Hb8WAsqReIuB"
      }
    },
    {
      "cell_type": "code",
      "source": [
        "# Generate a feature vector for each document\n",
        "def comment_vector(comment):\n",
        "    # Remove out-of-vocabulary words\n",
        "    comment = [word for word in comment if word in model_pretrained.key_to_index]\n",
        "    if not comment:\n",
        "        return np.zeros(model_pretrained.vector_size)\n",
        "    # Use model_pretrained directly to get word vectors\n",
        "    return np.mean([model_pretrained[word] for word in comment], axis=0)\n",
        "\n",
        "small_X_train['doc_vector_pretrained'] = small_X_train['tokenized'].apply(comment_vector)\n",
        "small_X_test['doc_vector_pretrained'] = small_X_test['tokenized'].apply(comment_vector)\n",
        "\n",
        "X_train_vectors_pretrained = np.stack(small_X_train['doc_vector_pretrained'].values)\n",
        "X_test_vectors_pretrained = np.stack(small_X_test['doc_vector_pretrained'].values)"
      ],
      "metadata": {
        "id": "vYeRBHjjeLdJ"
      },
      "execution_count": null,
      "outputs": []
    },
    {
      "cell_type": "code",
      "source": [
        "# Initialize the Logistic Regression model\n",
        "lr_model = LogisticRegression(max_iter=1000)\n",
        "\n",
        "# Fit the model\n",
        "lr_model.fit(X_train_vectors_pretrained, small_y_train)\n",
        "\n",
        "# Predict on the test set\n",
        "lr_predictions = lr_model.predict(X_test_vectors_pretrained)\n",
        "\n",
        "# Evaluate the model\n",
        "print(\"Logistic Regression Accuracy:\", accuracy_score(small_y_test, lr_predictions))\n",
        "print(\"F1 Score:\", f1_score(small_y_test, lr_predictions))"
      ],
      "metadata": {
        "colab": {
          "base_uri": "https://localhost:8080/"
        },
        "id": "oJWiteqmeOBU",
        "outputId": "da517fb3-663b-42d8-bcc8-4ee3f4ea1a75"
      },
      "execution_count": 72,
      "outputs": [
        {
          "output_type": "stream",
          "name": "stdout",
          "text": [
            "Logistic Regression Accuracy: 0.76\n",
            "F1 Score: 0.7428571428571429\n"
          ]
        }
      ]
    },
    {
      "cell_type": "markdown",
      "source": [
        "Graph"
      ],
      "metadata": {
        "id": "GQaw8r6cjKT_"
      }
    },
    {
      "cell_type": "code",
      "source": [
        "import pandas as pd\n",
        "\n",
        "# Manually creating the DataFrame from the provided data\n",
        "data = {\n",
        "    'Subreddit': ['threshold', 'australia', 'canada', 'collapse', 'futurology', 'the_donald'],\n",
        "    'Selftrained Accuracy': [0.621333333, 0.654666667, 0.612666667, 0.658666667, 0.636, 0.640666667],\n",
        "    'Pretrained Accuracy': [0.727333333, 0.767333333, 0.736, 0.742666667, 0.740666667, 0.76],\n",
        "    'Selftrained F1': [0.597733711, 0.609351433, 0.641579272, 0.515151515, 0.637450199, 0.590736522],\n",
        "    'Pretrained F1': [0.718125431, 0.7523066, 0.740837696, 0.67008547, 0.74558535, 0.742857143]\n",
        "}\n",
        "\n",
        "df = pd.DataFrame(data)"
      ],
      "metadata": {
        "id": "nMB4TFosQF8C"
      },
      "execution_count": 74,
      "outputs": []
    },
    {
      "cell_type": "code",
      "source": [
        "# Creating the plot for selftrained models\n",
        "plt.figure(figsize=(10, 6))\n",
        "\n",
        "plt.bar([p - bar_width/2 for p in positions], df['Selftrained Accuracy'], width=bar_width, color='darkblue', edgecolor='black', label='Accuracy')\n",
        "plt.bar([p + bar_width/2 for p in positions], df['Selftrained F1'], width=bar_width, color='lightblue', edgecolor='black', label='F1 Score')\n",
        "\n",
        "# Adding the Subreddit names as x-axis labels\n",
        "plt.xlabel('Subreddit', fontweight='bold')\n",
        "plt.xticks(positions, df['Subreddit'], rotation=45)\n",
        "\n",
        "# Setting the y-axis label and limits\n",
        "plt.ylabel('Score')\n",
        "plt.ylim(0, 1)  # Setting y-axis to range from 0 to 1\n",
        "\n",
        "# Adding a title\n",
        "plt.title('Selftrained Model Performance by Subreddit')\n",
        "\n",
        "# Adding a legend\n",
        "plt.legend()\n",
        "\n",
        "# Showing the plot\n",
        "plt.tight_layout()\n",
        "plt.show()"
      ],
      "metadata": {
        "colab": {
          "base_uri": "https://localhost:8080/",
          "height": 607
        },
        "id": "buyYjDGbjMhK",
        "outputId": "de82ff80-6511-4818-d077-8853e96ab82b"
      },
      "execution_count": 82,
      "outputs": [
        {
          "output_type": "display_data",
          "data": {
            "text/plain": [
              "<Figure size 1000x600 with 1 Axes>"
            ],
            "image/png": "[encoded data removed]"
          },
          "metadata": {}
        }
      ]
    },
    {
      "cell_type": "code",
      "source": [
        "# Creating the plot for pretrained models\n",
        "plt.figure(figsize=(10, 6))\n",
        "\n",
        "plt.bar([p - bar_width/2 for p in positions], df['Pretrained Accuracy'], width=bar_width, color='darkblue', edgecolor='black', label='Accuracy')\n",
        "plt.bar([p + bar_width/2 for p in positions], df['Pretrained F1'], width=bar_width, color='lightblue', edgecolor='black', label='F1 Score')\n",
        "\n",
        "# Adding the Subreddit names as x-axis labels\n",
        "plt.xlabel('Subreddit', fontweight='bold')\n",
        "plt.xticks(positions, df['Subreddit'], rotation=45)\n",
        "\n",
        "# Setting the y-axis label and limits\n",
        "plt.ylabel('Score')\n",
        "plt.ylim(0, 1)  # Setting y-axis to range from 0 to 1\n",
        "\n",
        "# Adding a title\n",
        "plt.title('Pretrained Model Performance by Subreddit')\n",
        "\n",
        "# Adding a legend\n",
        "plt.legend()\n",
        "\n",
        "# Showing the plot\n",
        "plt.tight_layout()\n",
        "plt.show()"
      ],
      "metadata": {
        "colab": {
          "base_uri": "https://localhost:8080/",
          "height": 607
        },
        "id": "HNcDaC8ulxSF",
        "outputId": "438b02fc-73cc-4ca2-e36a-ebaf0874b291"
      },
      "execution_count": 83,
      "outputs": [
        {
          "output_type": "display_data",
          "data": {
            "text/plain": [
              "<Figure size 1000x600 with 1 Axes>"
            ],
            "image/png": "[encoded data removed]"
          },
          "metadata": {}
        }
      ]
    }
  ]
}